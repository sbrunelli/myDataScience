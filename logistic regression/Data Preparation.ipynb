{
 "cells": [
  {
   "cell_type": "markdown",
   "metadata": {},
   "source": [
    "# Integration of the results"
   ]
  },
  {
   "cell_type": "markdown",
   "metadata": {},
   "source": [
    "At this point the scraping process has done its job and we should have all our .csv files in the ./data directory, one for each season.\n",
    "\n",
    "What we actually need is a single file, or table, with the data from all seasons. The difficulty at this point is that different seasons will have different statistics.\n",
    "\n",
    "I will integrate the files togethere nonetheless. In many cases a lot of the stats will simply be NULL, but at the end I will have a single nice structure with, and here come the responsibilities of this module:\n",
    "\n",
    "1. One single .csv file (which to me is the same as a data frame or as a table) with all the matches from all the seasons.\n",
    "2. The columns must be in a meaningfull order, that helps their interpretation.\n",
    "3. Column names should be in english and no longer in italian.\n",
    "4. Column names should be shorter than these strings of 10 words.\n",
    "\n",
    "One little comment to the last point: I'm actually a great fan of meaningfull variable and column names, and I've seen many projects suffer because of a complete lack of standards in naming conventions or because thing were named something like _cacctn (customer account number) or bui (bank unique identifier)_ and things like that, so I think the subject is of the highest importance.\n",
    "\n",
    "That said, I'll forget my good intentions here, for the sake of velocity and screen readability :-| ."
   ]
  },
  {
   "cell_type": "code",
   "execution_count": 10,
   "metadata": {
    "collapsed": true
   },
   "outputs": [],
   "source": [
    "import os\n",
    "import pandas as pd"
   ]
  },
  {
   "cell_type": "markdown",
   "metadata": {},
   "source": [
    "Read all the csv files and bring them all together into a single dataframe."
   ]
  },
  {
   "cell_type": "code",
   "execution_count": 11,
   "metadata": {
    "collapsed": false
   },
   "outputs": [],
   "source": [
    "statistics = pd.DataFrame(columns=[\"dummy\"])\n",
    "for file in os.listdir(\"./data/\"):\n",
    "    if file.endswith(\".csv\"):\n",
    "        if file.startswith(\"S\"): continue  # guardian pattern\n",
    "        fhand = open(os.path.join(\"./data/\", file))\n",
    "        season = pd.read_csv(os.path.join(\"./data/\", file))\n",
    "        statistics = pd.concat([statistics, season])\n",
    "        fhand.close()"
   ]
  },
  {
   "cell_type": "markdown",
   "metadata": {},
   "source": [
    "The order of the columns is still not correct, because we still haven't taken care of it."
   ]
  },
  {
   "cell_type": "code",
   "execution_count": 12,
   "metadata": {
    "collapsed": false
   },
   "outputs": [
    {
     "data": {
      "text/html": [
       "<div>\n",
       "<table border=\"1\" class=\"dataframe\">\n",
       "  <thead>\n",
       "    <tr style=\"text-align: right;\">\n",
       "      <th></th>\n",
       "      <th>Ammonizioni</th>\n",
       "      <th>Ammonizioni avversario</th>\n",
       "      <th>Assist Totali</th>\n",
       "      <th>Assist Totali avversario</th>\n",
       "      <th>Attacchi a destra</th>\n",
       "      <th>Attacchi a destra avversario</th>\n",
       "      <th>Attacchi a sinistra</th>\n",
       "      <th>Attacchi a sinistra avversario</th>\n",
       "      <th>Attacchi centrali</th>\n",
       "      <th>Attacchi centrali avversario</th>\n",
       "      <th>...</th>\n",
       "      <th>Tiri fuori su azione da palla inattiva avversario</th>\n",
       "      <th>Tiri in porta</th>\n",
       "      <th>Tiri in porta avversario</th>\n",
       "      <th>Tiri in porta da area</th>\n",
       "      <th>Tiri in porta da area avversario</th>\n",
       "      <th>Tiri in porta da punizione</th>\n",
       "      <th>Tiri in porta da punizione avversario</th>\n",
       "      <th>Tiri in porta su azione da palla inattiva</th>\n",
       "      <th>Tiri in porta su azione da palla inattiva avversario</th>\n",
       "      <th>dummy</th>\n",
       "    </tr>\n",
       "  </thead>\n",
       "  <tbody>\n",
       "    <tr>\n",
       "      <th>0</th>\n",
       "      <td>NaN</td>\n",
       "      <td>NaN</td>\n",
       "      <td>NaN</td>\n",
       "      <td>NaN</td>\n",
       "      <td>NaN</td>\n",
       "      <td>NaN</td>\n",
       "      <td>NaN</td>\n",
       "      <td>NaN</td>\n",
       "      <td>NaN</td>\n",
       "      <td>NaN</td>\n",
       "      <td>...</td>\n",
       "      <td>NaN</td>\n",
       "      <td>NaN</td>\n",
       "      <td>NaN</td>\n",
       "      <td>NaN</td>\n",
       "      <td>NaN</td>\n",
       "      <td>NaN</td>\n",
       "      <td>NaN</td>\n",
       "      <td>NaN</td>\n",
       "      <td>NaN</td>\n",
       "      <td>NaN</td>\n",
       "    </tr>\n",
       "    <tr>\n",
       "      <th>1</th>\n",
       "      <td>NaN</td>\n",
       "      <td>NaN</td>\n",
       "      <td>NaN</td>\n",
       "      <td>NaN</td>\n",
       "      <td>NaN</td>\n",
       "      <td>NaN</td>\n",
       "      <td>NaN</td>\n",
       "      <td>NaN</td>\n",
       "      <td>NaN</td>\n",
       "      <td>NaN</td>\n",
       "      <td>...</td>\n",
       "      <td>NaN</td>\n",
       "      <td>NaN</td>\n",
       "      <td>NaN</td>\n",
       "      <td>NaN</td>\n",
       "      <td>NaN</td>\n",
       "      <td>NaN</td>\n",
       "      <td>NaN</td>\n",
       "      <td>NaN</td>\n",
       "      <td>NaN</td>\n",
       "      <td>NaN</td>\n",
       "    </tr>\n",
       "    <tr>\n",
       "      <th>2</th>\n",
       "      <td>NaN</td>\n",
       "      <td>NaN</td>\n",
       "      <td>NaN</td>\n",
       "      <td>NaN</td>\n",
       "      <td>NaN</td>\n",
       "      <td>NaN</td>\n",
       "      <td>NaN</td>\n",
       "      <td>NaN</td>\n",
       "      <td>NaN</td>\n",
       "      <td>NaN</td>\n",
       "      <td>...</td>\n",
       "      <td>NaN</td>\n",
       "      <td>NaN</td>\n",
       "      <td>NaN</td>\n",
       "      <td>NaN</td>\n",
       "      <td>NaN</td>\n",
       "      <td>NaN</td>\n",
       "      <td>NaN</td>\n",
       "      <td>NaN</td>\n",
       "      <td>NaN</td>\n",
       "      <td>NaN</td>\n",
       "    </tr>\n",
       "  </tbody>\n",
       "</table>\n",
       "<p>3 rows × 64 columns</p>\n",
       "</div>"
      ],
      "text/plain": [
       "   Ammonizioni  Ammonizioni avversario  Assist Totali  \\\n",
       "0          NaN                     NaN            NaN   \n",
       "1          NaN                     NaN            NaN   \n",
       "2          NaN                     NaN            NaN   \n",
       "\n",
       "   Assist Totali avversario  Attacchi a destra  Attacchi a destra avversario  \\\n",
       "0                       NaN                NaN                           NaN   \n",
       "1                       NaN                NaN                           NaN   \n",
       "2                       NaN                NaN                           NaN   \n",
       "\n",
       "   Attacchi a sinistra  Attacchi a sinistra avversario  Attacchi centrali  \\\n",
       "0                  NaN                             NaN                NaN   \n",
       "1                  NaN                             NaN                NaN   \n",
       "2                  NaN                             NaN                NaN   \n",
       "\n",
       "   Attacchi centrali avversario  ...    \\\n",
       "0                           NaN  ...     \n",
       "1                           NaN  ...     \n",
       "2                           NaN  ...     \n",
       "\n",
       "  Tiri fuori su azione da palla inattiva avversario Tiri in porta  \\\n",
       "0                                               NaN           NaN   \n",
       "1                                               NaN           NaN   \n",
       "2                                               NaN           NaN   \n",
       "\n",
       "   Tiri in porta avversario  Tiri in porta da area  \\\n",
       "0                       NaN                    NaN   \n",
       "1                       NaN                    NaN   \n",
       "2                       NaN                    NaN   \n",
       "\n",
       "   Tiri in porta da area avversario  Tiri in porta da punizione  \\\n",
       "0                               NaN                         NaN   \n",
       "1                               NaN                         NaN   \n",
       "2                               NaN                         NaN   \n",
       "\n",
       "   Tiri in porta da punizione avversario  \\\n",
       "0                                    NaN   \n",
       "1                                    NaN   \n",
       "2                                    NaN   \n",
       "\n",
       "   Tiri in porta su azione da palla inattiva  \\\n",
       "0                                        NaN   \n",
       "1                                        NaN   \n",
       "2                                        NaN   \n",
       "\n",
       "   Tiri in porta su azione da palla inattiva avversario  dummy  \n",
       "0                                                NaN       NaN  \n",
       "1                                                NaN       NaN  \n",
       "2                                                NaN       NaN  \n",
       "\n",
       "[3 rows x 64 columns]"
      ]
     },
     "execution_count": 12,
     "metadata": {},
     "output_type": "execute_result"
    }
   ],
   "source": [
    "statistics.head(3)"
   ]
  },
  {
   "cell_type": "markdown",
   "metadata": {},
   "source": [
    "The names of the columns are still in italian.\n",
    "\n",
    "We have our 19852 observations though, each one with 64 indicators or variables, and that was our first goal."
   ]
  },
  {
   "cell_type": "code",
   "execution_count": 13,
   "metadata": {
    "collapsed": false,
    "scrolled": true
   },
   "outputs": [
    {
     "name": "stdout",
     "output_type": "stream",
     "text": [
      "<class 'pandas.core.frame.DataFrame'>\n",
      "Int64Index: 19852 entries, 0 to 759\n",
      "Data columns (total 64 columns):\n",
      "Ammonizioni                                             13384 non-null float64\n",
      "Ammonizioni avversario                                  13384 non-null float64\n",
      "Assist Totali                                           9730 non-null float64\n",
      "Assist Totali avversario                                9730 non-null float64\n",
      "Attacchi a destra                                       6500 non-null float64\n",
      "Attacchi a destra avversario                            6500 non-null float64\n",
      "Attacchi a sinistra                                     6500 non-null float64\n",
      "Attacchi a sinistra avversario                          6500 non-null float64\n",
      "Attacchi centrali                                       6500 non-null float64\n",
      "Attacchi centrali avversario                            6500 non-null float64\n",
      "Avversaria                                              19852 non-null object\n",
      "Campo                                                   19852 non-null object\n",
      "Contropiede                                             6098 non-null float64\n",
      "Contropiede avversario                                  6098 non-null float64\n",
      "Corner                                                  9730 non-null float64\n",
      "Corner avversario                                       9730 non-null float64\n",
      "Cross                                                   6500 non-null float64\n",
      "Cross avversario                                        6500 non-null float64\n",
      "Doppie ammonizioni                                      9774 non-null float64\n",
      "Doppie ammonizioni avversario                           9774 non-null float64\n",
      "Espulsioni                                              18202 non-null float64\n",
      "Espulsioni avversario                                   18202 non-null float64\n",
      "Falli subiti                                            9730 non-null float64\n",
      "Falli subiti avversario                                 9730 non-null float64\n",
      "Fuorigioco                                              9730 non-null float64\n",
      "Fuorigioco avversario                                   9730 non-null float64\n",
      "Giornata                                                19852 non-null float64\n",
      "Gol segnati                                             19852 non-null float64\n",
      "Gol subiti                                              19852 non-null float64\n",
      "Lanci lunghi                                            6320 non-null float64\n",
      "Lanci lunghi avversario                                 6320 non-null float64\n",
      "Occasioni da gol                                        4398 non-null float64\n",
      "Occasioni da gol avversario                             4398 non-null float64\n",
      "Pali                                                    9312 non-null float64\n",
      "Pali avversario                                         9312 non-null float64\n",
      "Palle perse                                             9730 non-null float64\n",
      "Palle perse avversario                                  9730 non-null float64\n",
      "Palle recuperate                                        9730 non-null float64\n",
      "Palle recuperate avversario                             9730 non-null float64\n",
      "Parate                                                  9622 non-null float64\n",
      "Parate avversario                                       9622 non-null float64\n",
      "Possesso palla                                          1520 non-null object\n",
      "Possesso palla avversario                               1520 non-null object\n",
      "Rigori                                                  9730 non-null float64\n",
      "Rigori avversario                                       9730 non-null float64\n",
      "Squadra                                                 19852 non-null object\n",
      "Stagione                                                19852 non-null object\n",
      "Tiri Totali                                             9730 non-null float64\n",
      "Tiri Totali avversario                                  9730 non-null float64\n",
      "Tiri fuori                                              9730 non-null float64\n",
      "Tiri fuori avversario                                   9730 non-null float64\n",
      "Tiri fuori da punizione                                 3198 non-null float64\n",
      "Tiri fuori da punizione avversario                      3198 non-null float64\n",
      "Tiri fuori su azione da palla inattiva                  760 non-null float64\n",
      "Tiri fuori su azione da palla inattiva avversario       760 non-null float64\n",
      "Tiri in porta                                           9730 non-null float64\n",
      "Tiri in porta avversario                                9730 non-null float64\n",
      "Tiri in porta da area                                   9730 non-null float64\n",
      "Tiri in porta da area avversario                        9730 non-null float64\n",
      "Tiri in porta da punizione                              3298 non-null float64\n",
      "Tiri in porta da punizione avversario                   3298 non-null float64\n",
      "Tiri in porta su azione da palla inattiva               760 non-null float64\n",
      "Tiri in porta su azione da palla inattiva avversario    760 non-null float64\n",
      "dummy                                                   0 non-null object\n",
      "dtypes: float64(57), object(7)\n",
      "memory usage: 9.8+ MB\n"
     ]
    }
   ],
   "source": [
    "statistics.info()"
   ]
  },
  {
   "cell_type": "markdown",
   "metadata": {},
   "source": [
    "Well actually one is too much...the dummy column and we drop it now."
   ]
  },
  {
   "cell_type": "code",
   "execution_count": 14,
   "metadata": {
    "collapsed": true
   },
   "outputs": [],
   "source": [
    "del statistics[\"dummy\"]"
   ]
  },
  {
   "cell_type": "markdown",
   "metadata": {
    "collapsed": true
   },
   "source": [
    "Load a dictionary that maps column names from italian to english and specifies an order for the columns too."
   ]
  },
  {
   "cell_type": "code",
   "execution_count": 15,
   "metadata": {
    "collapsed": false
   },
   "outputs": [
    {
     "data": {
      "text/html": [
       "<div>\n",
       "<table border=\"1\" class=\"dataframe\">\n",
       "  <thead>\n",
       "    <tr style=\"text-align: right;\">\n",
       "      <th></th>\n",
       "      <th>Ita</th>\n",
       "      <th>Sort</th>\n",
       "      <th>Eng</th>\n",
       "      <th>Colname</th>\n",
       "    </tr>\n",
       "  </thead>\n",
       "  <tbody>\n",
       "    <tr>\n",
       "      <th>0</th>\n",
       "      <td>Stagione                                      ...</td>\n",
       "      <td>1</td>\n",
       "      <td>Season</td>\n",
       "      <td>sea</td>\n",
       "    </tr>\n",
       "    <tr>\n",
       "      <th>1</th>\n",
       "      <td>Giornata                                      ...</td>\n",
       "      <td>2</td>\n",
       "      <td>Game</td>\n",
       "      <td>gam</td>\n",
       "    </tr>\n",
       "  </tbody>\n",
       "</table>\n",
       "</div>"
      ],
      "text/plain": [
       "                                                 Ita  Sort     Eng Colname\n",
       "0  Stagione                                      ...     1  Season     sea\n",
       "1  Giornata                                      ...     2    Game     gam"
      ]
     },
     "execution_count": 15,
     "metadata": {},
     "output_type": "execute_result"
    }
   ],
   "source": [
    "statnames = pd.read_csv(\"./data/Statsname_ita_eng.csv\")\n",
    "statnames.head(2)"
   ]
  },
  {
   "cell_type": "markdown",
   "metadata": {},
   "source": [
    "Now apply that order to the columns of the data frame."
   ]
  },
  {
   "cell_type": "code",
   "execution_count": 16,
   "metadata": {
    "collapsed": false
   },
   "outputs": [
    {
     "name": "stderr",
     "output_type": "stream",
     "text": [
      "C:\\Users\\LLI\\AppData\\Local\\Continuum\\Anaconda3\\lib\\site-packages\\ipykernel\\__main__.py:3: SettingWithCopyWarning: \n",
      "A value is trying to be set on a copy of a slice from a DataFrame\n",
      "\n",
      "See the caveats in the documentation: http://pandas.pydata.org/pandas-docs/stable/indexing.html#indexing-view-versus-copy\n",
      "  app.launch_new_instance()\n"
     ]
    },
    {
     "data": {
      "text/plain": [
       "'dummy'"
      ]
     },
     "execution_count": 16,
     "metadata": {},
     "output_type": "execute_result"
    }
   ],
   "source": [
    "cnames = statnames.Ita\n",
    "for i in range(len(cnames)):\n",
    "    cnames[i] = cnames[i].strip()\n",
    "l = list(cnames)\n",
    "l.pop()"
   ]
  },
  {
   "cell_type": "code",
   "execution_count": 17,
   "metadata": {
    "collapsed": false
   },
   "outputs": [],
   "source": [
    "statistics = statistics[l]"
   ]
  },
  {
   "cell_type": "markdown",
   "metadata": {},
   "source": [
    "Now the columns are in the order we want."
   ]
  },
  {
   "cell_type": "code",
   "execution_count": 18,
   "metadata": {
    "collapsed": false,
    "scrolled": true
   },
   "outputs": [
    {
     "data": {
      "text/html": [
       "<div>\n",
       "<table border=\"1\" class=\"dataframe\">\n",
       "  <thead>\n",
       "    <tr style=\"text-align: right;\">\n",
       "      <th></th>\n",
       "      <th>Stagione</th>\n",
       "      <th>Giornata</th>\n",
       "      <th>Squadra</th>\n",
       "      <th>Avversaria</th>\n",
       "      <th>Campo</th>\n",
       "      <th>Gol segnati</th>\n",
       "      <th>Gol subiti</th>\n",
       "      <th>Ammonizioni</th>\n",
       "      <th>Ammonizioni avversario</th>\n",
       "      <th>Assist Totali</th>\n",
       "      <th>...</th>\n",
       "      <th>Tiri fuori su azione da palla inattiva</th>\n",
       "      <th>Tiri fuori su azione da palla inattiva avversario</th>\n",
       "      <th>Tiri in porta</th>\n",
       "      <th>Tiri in porta avversario</th>\n",
       "      <th>Tiri in porta da area</th>\n",
       "      <th>Tiri in porta da area avversario</th>\n",
       "      <th>Tiri in porta da punizione</th>\n",
       "      <th>Tiri in porta da punizione avversario</th>\n",
       "      <th>Tiri in porta su azione da palla inattiva</th>\n",
       "      <th>Tiri in porta su azione da palla inattiva avversario</th>\n",
       "    </tr>\n",
       "  </thead>\n",
       "  <tbody>\n",
       "    <tr>\n",
       "      <th>0</th>\n",
       "      <td>1986-87</td>\n",
       "      <td>1.0</td>\n",
       "      <td>AVELLINO</td>\n",
       "      <td>FIORENTINA</td>\n",
       "      <td>home</td>\n",
       "      <td>2.0</td>\n",
       "      <td>1.0</td>\n",
       "      <td>NaN</td>\n",
       "      <td>NaN</td>\n",
       "      <td>NaN</td>\n",
       "      <td>...</td>\n",
       "      <td>NaN</td>\n",
       "      <td>NaN</td>\n",
       "      <td>NaN</td>\n",
       "      <td>NaN</td>\n",
       "      <td>NaN</td>\n",
       "      <td>NaN</td>\n",
       "      <td>NaN</td>\n",
       "      <td>NaN</td>\n",
       "      <td>NaN</td>\n",
       "      <td>NaN</td>\n",
       "    </tr>\n",
       "    <tr>\n",
       "      <th>1</th>\n",
       "      <td>1986-87</td>\n",
       "      <td>1.0</td>\n",
       "      <td>FIORENTINA</td>\n",
       "      <td>AVELLINO</td>\n",
       "      <td>away</td>\n",
       "      <td>1.0</td>\n",
       "      <td>2.0</td>\n",
       "      <td>NaN</td>\n",
       "      <td>NaN</td>\n",
       "      <td>NaN</td>\n",
       "      <td>...</td>\n",
       "      <td>NaN</td>\n",
       "      <td>NaN</td>\n",
       "      <td>NaN</td>\n",
       "      <td>NaN</td>\n",
       "      <td>NaN</td>\n",
       "      <td>NaN</td>\n",
       "      <td>NaN</td>\n",
       "      <td>NaN</td>\n",
       "      <td>NaN</td>\n",
       "      <td>NaN</td>\n",
       "    </tr>\n",
       "    <tr>\n",
       "      <th>2</th>\n",
       "      <td>1986-87</td>\n",
       "      <td>1.0</td>\n",
       "      <td>BRESCIA</td>\n",
       "      <td>NAPOLI</td>\n",
       "      <td>home</td>\n",
       "      <td>0.0</td>\n",
       "      <td>1.0</td>\n",
       "      <td>NaN</td>\n",
       "      <td>NaN</td>\n",
       "      <td>NaN</td>\n",
       "      <td>...</td>\n",
       "      <td>NaN</td>\n",
       "      <td>NaN</td>\n",
       "      <td>NaN</td>\n",
       "      <td>NaN</td>\n",
       "      <td>NaN</td>\n",
       "      <td>NaN</td>\n",
       "      <td>NaN</td>\n",
       "      <td>NaN</td>\n",
       "      <td>NaN</td>\n",
       "      <td>NaN</td>\n",
       "    </tr>\n",
       "  </tbody>\n",
       "</table>\n",
       "<p>3 rows × 63 columns</p>\n",
       "</div>"
      ],
      "text/plain": [
       "  Stagione  Giornata     Squadra  Avversaria Campo  Gol segnati  Gol subiti  \\\n",
       "0  1986-87       1.0    AVELLINO  FIORENTINA  home          2.0         1.0   \n",
       "1  1986-87       1.0  FIORENTINA    AVELLINO  away          1.0         2.0   \n",
       "2  1986-87       1.0     BRESCIA      NAPOLI  home          0.0         1.0   \n",
       "\n",
       "   Ammonizioni  Ammonizioni avversario  Assist Totali  \\\n",
       "0          NaN                     NaN            NaN   \n",
       "1          NaN                     NaN            NaN   \n",
       "2          NaN                     NaN            NaN   \n",
       "\n",
       "                           ...                           \\\n",
       "0                          ...                            \n",
       "1                          ...                            \n",
       "2                          ...                            \n",
       "\n",
       "   Tiri fuori su azione da palla inattiva  \\\n",
       "0                                     NaN   \n",
       "1                                     NaN   \n",
       "2                                     NaN   \n",
       "\n",
       "   Tiri fuori su azione da palla inattiva avversario  Tiri in porta  \\\n",
       "0                                                NaN            NaN   \n",
       "1                                                NaN            NaN   \n",
       "2                                                NaN            NaN   \n",
       "\n",
       "   Tiri in porta avversario  Tiri in porta da area  \\\n",
       "0                       NaN                    NaN   \n",
       "1                       NaN                    NaN   \n",
       "2                       NaN                    NaN   \n",
       "\n",
       "   Tiri in porta da area avversario  Tiri in porta da punizione  \\\n",
       "0                               NaN                         NaN   \n",
       "1                               NaN                         NaN   \n",
       "2                               NaN                         NaN   \n",
       "\n",
       "   Tiri in porta da punizione avversario  \\\n",
       "0                                    NaN   \n",
       "1                                    NaN   \n",
       "2                                    NaN   \n",
       "\n",
       "   Tiri in porta su azione da palla inattiva  \\\n",
       "0                                        NaN   \n",
       "1                                        NaN   \n",
       "2                                        NaN   \n",
       "\n",
       "   Tiri in porta su azione da palla inattiva avversario  \n",
       "0                                                NaN     \n",
       "1                                                NaN     \n",
       "2                                                NaN     \n",
       "\n",
       "[3 rows x 63 columns]"
      ]
     },
     "execution_count": 18,
     "metadata": {},
     "output_type": "execute_result"
    }
   ],
   "source": [
    "statistics.head(3)"
   ]
  },
  {
   "cell_type": "markdown",
   "metadata": {},
   "source": [
    "But they are still in italian.\n",
    "\n",
    "Now we switch from italian names to short (so much for readability and good intentions... :-) ) version in english."
   ]
  },
  {
   "cell_type": "code",
   "execution_count": 19,
   "metadata": {
    "collapsed": false
   },
   "outputs": [
    {
     "data": {
      "text/plain": [
       "nan"
      ]
     },
     "execution_count": 19,
     "metadata": {},
     "output_type": "execute_result"
    }
   ],
   "source": [
    "newnames = list(statnames.Colname)\n",
    "newnames.pop()"
   ]
  },
  {
   "cell_type": "code",
   "execution_count": 20,
   "metadata": {
    "collapsed": true
   },
   "outputs": [],
   "source": [
    "statistics.columns = newnames"
   ]
  },
  {
   "cell_type": "markdown",
   "metadata": {},
   "source": [
    "And there it is:\n",
    "\n",
    "* One single data frame: check.\n",
    "* Columns must be in a meaningfull order: check.\n",
    "* Column names in english: check.\n",
    "* Column names shorter than strings of 10 words: check."
   ]
  },
  {
   "cell_type": "code",
   "execution_count": 21,
   "metadata": {
    "collapsed": false
   },
   "outputs": [
    {
     "data": {
      "text/html": [
       "<div>\n",
       "<table border=\"1\" class=\"dataframe\">\n",
       "  <thead>\n",
       "    <tr style=\"text-align: right;\">\n",
       "      <th></th>\n",
       "      <th>sea</th>\n",
       "      <th>gam</th>\n",
       "      <th>tea</th>\n",
       "      <th>opp</th>\n",
       "      <th>ven</th>\n",
       "      <th>gs</th>\n",
       "      <th>ga</th>\n",
       "      <th>yc</th>\n",
       "      <th>yc_o</th>\n",
       "      <th>ass</th>\n",
       "      <th>...</th>\n",
       "      <th>shoffss</th>\n",
       "      <th>shoffss_o</th>\n",
       "      <th>shon</th>\n",
       "      <th>shon_o</th>\n",
       "      <th>shoonb</th>\n",
       "      <th>shoonb_o</th>\n",
       "      <th>shonfk</th>\n",
       "      <th>shonfk_o</th>\n",
       "      <th>shonss</th>\n",
       "      <th>shonss_o</th>\n",
       "    </tr>\n",
       "  </thead>\n",
       "  <tbody>\n",
       "    <tr>\n",
       "      <th>0</th>\n",
       "      <td>1986-87</td>\n",
       "      <td>1.0</td>\n",
       "      <td>AVELLINO</td>\n",
       "      <td>FIORENTINA</td>\n",
       "      <td>home</td>\n",
       "      <td>2.0</td>\n",
       "      <td>1.0</td>\n",
       "      <td>NaN</td>\n",
       "      <td>NaN</td>\n",
       "      <td>NaN</td>\n",
       "      <td>...</td>\n",
       "      <td>NaN</td>\n",
       "      <td>NaN</td>\n",
       "      <td>NaN</td>\n",
       "      <td>NaN</td>\n",
       "      <td>NaN</td>\n",
       "      <td>NaN</td>\n",
       "      <td>NaN</td>\n",
       "      <td>NaN</td>\n",
       "      <td>NaN</td>\n",
       "      <td>NaN</td>\n",
       "    </tr>\n",
       "    <tr>\n",
       "      <th>1</th>\n",
       "      <td>1986-87</td>\n",
       "      <td>1.0</td>\n",
       "      <td>FIORENTINA</td>\n",
       "      <td>AVELLINO</td>\n",
       "      <td>away</td>\n",
       "      <td>1.0</td>\n",
       "      <td>2.0</td>\n",
       "      <td>NaN</td>\n",
       "      <td>NaN</td>\n",
       "      <td>NaN</td>\n",
       "      <td>...</td>\n",
       "      <td>NaN</td>\n",
       "      <td>NaN</td>\n",
       "      <td>NaN</td>\n",
       "      <td>NaN</td>\n",
       "      <td>NaN</td>\n",
       "      <td>NaN</td>\n",
       "      <td>NaN</td>\n",
       "      <td>NaN</td>\n",
       "      <td>NaN</td>\n",
       "      <td>NaN</td>\n",
       "    </tr>\n",
       "    <tr>\n",
       "      <th>2</th>\n",
       "      <td>1986-87</td>\n",
       "      <td>1.0</td>\n",
       "      <td>BRESCIA</td>\n",
       "      <td>NAPOLI</td>\n",
       "      <td>home</td>\n",
       "      <td>0.0</td>\n",
       "      <td>1.0</td>\n",
       "      <td>NaN</td>\n",
       "      <td>NaN</td>\n",
       "      <td>NaN</td>\n",
       "      <td>...</td>\n",
       "      <td>NaN</td>\n",
       "      <td>NaN</td>\n",
       "      <td>NaN</td>\n",
       "      <td>NaN</td>\n",
       "      <td>NaN</td>\n",
       "      <td>NaN</td>\n",
       "      <td>NaN</td>\n",
       "      <td>NaN</td>\n",
       "      <td>NaN</td>\n",
       "      <td>NaN</td>\n",
       "    </tr>\n",
       "  </tbody>\n",
       "</table>\n",
       "<p>3 rows × 63 columns</p>\n",
       "</div>"
      ],
      "text/plain": [
       "       sea  gam         tea         opp   ven   gs   ga  yc  yc_o  ass  \\\n",
       "0  1986-87  1.0    AVELLINO  FIORENTINA  home  2.0  1.0 NaN   NaN  NaN   \n",
       "1  1986-87  1.0  FIORENTINA    AVELLINO  away  1.0  2.0 NaN   NaN  NaN   \n",
       "2  1986-87  1.0     BRESCIA      NAPOLI  home  0.0  1.0 NaN   NaN  NaN   \n",
       "\n",
       "     ...     shoffss  shoffss_o  shon  shon_o  shoonb  shoonb_o  shonfk  \\\n",
       "0    ...         NaN        NaN   NaN     NaN     NaN       NaN     NaN   \n",
       "1    ...         NaN        NaN   NaN     NaN     NaN       NaN     NaN   \n",
       "2    ...         NaN        NaN   NaN     NaN     NaN       NaN     NaN   \n",
       "\n",
       "   shonfk_o  shonss  shonss_o  \n",
       "0       NaN     NaN       NaN  \n",
       "1       NaN     NaN       NaN  \n",
       "2       NaN     NaN       NaN  \n",
       "\n",
       "[3 rows x 63 columns]"
      ]
     },
     "execution_count": 21,
     "metadata": {},
     "output_type": "execute_result"
    }
   ],
   "source": [
    "statistics.head(3)"
   ]
  },
  {
   "cell_type": "markdown",
   "metadata": {},
   "source": [
    "Now just write them to file and we're done."
   ]
  },
  {
   "cell_type": "code",
   "execution_count": 22,
   "metadata": {
    "collapsed": true
   },
   "outputs": [],
   "source": [
    "statistics.to_csv(\"./data/Statistics.csv\", index=False)"
   ]
  },
  {
   "cell_type": "code",
   "execution_count": null,
   "metadata": {
    "collapsed": true
   },
   "outputs": [],
   "source": []
  }
 ],
 "metadata": {
  "anaconda-cloud": {},
  "kernelspec": {
   "display_name": "Python [Root]",
   "language": "python",
   "name": "Python [Root]"
  },
  "language_info": {
   "codemirror_mode": {
    "name": "ipython",
    "version": 3
   },
   "file_extension": ".py",
   "mimetype": "text/x-python",
   "name": "python",
   "nbconvert_exporter": "python",
   "pygments_lexer": "ipython3",
   "version": "3.5.2"
  }
 },
 "nbformat": 4,
 "nbformat_minor": 0
}
